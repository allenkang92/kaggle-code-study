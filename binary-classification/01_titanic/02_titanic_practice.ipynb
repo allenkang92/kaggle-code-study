{
 "cells": [
  {
   "cell_type": "code",
   "execution_count": 1,
   "metadata": {},
   "outputs": [],
   "source": [
    "# EDA To Prediction"
   ]
  },
  {
   "cell_type": "code",
   "execution_count": 2,
   "metadata": {},
   "outputs": [],
   "source": [
    "# Part1: Exploratory Data Analysis(EDA)\n",
    "## 탐색적 데이터 분석(EDA)\n",
    "\n",
    "\n",
    "# 1) Analysis of the features.\n",
    "## 1) 특성 분석\n",
    "\n",
    "\n",
    "# 2) Finding any relations or trends considering multiple features.\n",
    "## 2) 다중 특성 간 관계 및 트렌드 분석\n"
   ]
  },
  {
   "cell_type": "code",
   "execution_count": 3,
   "metadata": {},
   "outputs": [],
   "source": [
    "# Part2: Feature Engineering and Data Cleaning\n",
    "## 특성 엔지니어링 및 데이터 클리닝\n",
    "\n",
    "\n",
    "# 1) Adding any few features.\n",
    "## 1) 새로운 특성 추가\n",
    "\n",
    "\n",
    "# 2) Removing redundant features.\n",
    "## 2) 불필요한 특성 제거\n",
    "\n",
    "\n",
    "# 3) Converting features into suitable form for modeling.\n",
    "## 3) 모델링에 적합한 형태로 변환"
   ]
  },
  {
   "cell_type": "code",
   "execution_count": 4,
   "metadata": {},
   "outputs": [],
   "source": [
    "# Part3: Predictive Modeling\n",
    "## 예측 모델링\n",
    "\n",
    "\n",
    "# 1) Running Basic Algorithms\n",
    "## 1) 기본 알고리즘 실행\n",
    "\n",
    "\n",
    "# 2) Cross Validation\n",
    "## 2) 교차 검증\n",
    "\n",
    "\n",
    "# 3) Ensembling\n",
    "## 3) 앙상블\n",
    "\n",
    "\n",
    "# 4) Important Features Extraction\n",
    "## 4) 중요한 특성 추출"
   ]
  },
  {
   "cell_type": "code",
   "execution_count": null,
   "metadata": {},
   "outputs": [],
   "source": [
    "# Exploratory Data Analysis(EDA)\n",
    "# 탐색적 데이터 분석을 위한 라이브러리 임포트\n",
    "\n",
    "import numpy as np         # 수치 계산 및 배열 처리\n",
    "import pandas as pd        # 데이터프레임(표 형태) 처리\n",
    "import matplotlib.pyplot as plt  # 데이터 시각화\n",
    "import seaborn as sns      # 통계적 시각화\n",
    "plt.style.use('fivethirtyeight') # 시각화 스타일 지정\n",
    "\n",
    "import warnings            # 경고 메시지 처리\n",
    "warnings.filterwarnings('ignore') # 불필요한 경고 숨김\n",
    "\n",
    "%matplotlib inline         # 주피터 노트북에서 시각화 결과 인라인 출력"
   ]
  }
 ],
 "metadata": {
  "kernelspec": {
   "display_name": "yeardream",
   "language": "python",
   "name": "python3"
  },
  "language_info": {
   "codemirror_mode": {
    "name": "ipython",
    "version": 3
   },
   "file_extension": ".py",
   "mimetype": "text/x-python",
   "name": "python",
   "nbconvert_exporter": "python",
   "pygments_lexer": "ipython3",
   "version": "3.9.19"
  }
 },
 "nbformat": 4,
 "nbformat_minor": 2
}
